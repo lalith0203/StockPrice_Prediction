{
  "cells": [
    {
      "cell_type": "markdown",
      "metadata": {
        "colab_type": "text",
        "id": "view-in-github"
      },
      "source": [
        "<a href=\"https://colab.research.google.com/github/lalith0203/StockPrice_Prediction/blob/main/StockPrice_Prediction.ipynb\" target=\"_parent\"><img src=\"https://colab.research.google.com/assets/colab-badge.svg\" alt=\"Open In Colab\"/></a>"
      ]
    },
    {
      "cell_type": "code",
      "execution_count": null,
      "metadata": {
        "id": "JJ6HSJ7wDQ9n"
      },
      "outputs": [],
      "source": [
        "import math\n",
        "import numpy as np\n",
        "import pandas as pd\n",
        "import tensorflow as tf\n",
        "import matplotlib.pyplot as plt\n",
        "from sklearn.metrics import r2_score\n",
        "from tensorflow.keras.layers import LSTM\n",
        "from tensorflow.keras.layers import Dense\n",
        "from tensorflow.keras.layers import Dropout\n",
        "from tensorflow.keras.layers import Embedding\n",
        "from tensorflow.keras.models import Sequential\n",
        "from sklearn.metrics import mean_squared_error\n",
        "from sklearn.metrics import mean_absolute_error"
      ]
    },
    {
      "cell_type": "code",
      "execution_count": null,
      "metadata": {
        "colab": {
          "base_uri": "https://localhost:8080/",
          "height": 74
        },
        "id": "vsLMT1Y8EWD0",
        "outputId": "11a26a96-9349-475b-a1b4-36ab7fbbf427"
      },
      "outputs": [],
      "source": [
        "from google.colab import files\n",
        "uploaded = files.upload()"
      ]
    },
    {
      "cell_type": "code",
      "execution_count": null,
      "metadata": {
        "colab": {
          "base_uri": "https://localhost:8080/",
          "height": 206
        },
        "id": "TtzJNLnHEb8e",
        "outputId": "c0f54a31-ca2b-43ab-cad4-5d7852daeca8"
      },
      "outputs": [],
      "source": [
        "df=pd.read_csv(\"NSE-TATAGLOBAL.csv\")\n",
        "df.head()"
      ]
    },
    {
      "cell_type": "code",
      "execution_count": null,
      "metadata": {
        "colab": {
          "base_uri": "https://localhost:8080/",
          "height": 238
        },
        "id": "d7SsI_h1Ek8X",
        "outputId": "2899ce48-1bed-445e-f79f-1067657e27e3"
      },
      "outputs": [],
      "source": [
        "df[\"Date\"]=pd.to_datetime(df.Date,format=\"%Y-%m-%d\")\n",
        "df.index=df['Date']\n",
        "df.head()"
      ]
    },
    {
      "cell_type": "code",
      "execution_count": null,
      "metadata": {
        "colab": {
          "base_uri": "https://localhost:8080/",
          "height": 660
        },
        "id": "SMn4WsTwEpU_",
        "outputId": "71f04f21-9a52-4ef6-ca94-0c4cac7241a7"
      },
      "outputs": [],
      "source": [
        "fig, axes = plt.subplots(nrows=2,ncols=2, figsize=(10, 7), squeeze=False)\n",
        "fig.tight_layout(pad=5)\n",
        "plt.style.use('fivethirtyeight')\n",
        "axes[0][0].plot(df[\"Open\"],linewidth=0.8)\n",
        "axes[0][0].plot(df[\"Close\"],linewidth=0.8)\n",
        "axes[0][0].set_ylabel(\"Projections\")\n",
        "axes[0][0].set_xlabel(\"Date\")\n",
        "axes[0][0].set_title('Open Vs Close')\n",
        "axes[0][0].legend(['Open', 'Close'], loc='upper left')\n",
        "axes[0][1].plot(df[\"High\"],linewidth=0.8)\n",
        "axes[0][1].plot(df[\"Low\"],linewidth=0.8)\n",
        "axes[0][1].plot(df[\"Last\"],linewidth=0.8)\n",
        "axes[0][1].set_ylabel(\"Projections\")\n",
        "axes[0][1].set_xlabel(\"Date\")\n",
        "axes[0][1].set_title('High Vs Low Vs Last')\n",
        "axes[0][1].legend(['High', 'Low', 'Last'], loc='upper left')\n",
        "axes[1][0].plot(df[\"Total Trade Quantity\"],linewidth=0.8)\n",
        "axes[1][0].set_ylabel(\"Projections\")\n",
        "axes[1][0].set_xlabel(\"Date\")\n",
        "axes[1][0].set_title('Total Trade Quantity')\n",
        "axes[1][0].legend(['Total Trade Quantity'], loc='upper left')\n",
        "axes[1][1].plot(df[\"Turnover (Lacs)\"],linewidth=0.8)\n",
        "axes[1][1].set_ylabel(\"Projections\")\n",
        "axes[1][1].set_xlabel(\"Date\")\n",
        "axes[1][1].set_title('Turnover (Lacs)')\n",
        "axes[1][1].legend(['Turnover (Lacs)'], loc='upper left')"
      ]
    },
    {
      "cell_type": "code",
      "execution_count": null,
      "metadata": {
        "colab": {
          "base_uri": "https://localhost:8080/",
          "height": 206
        },
        "id": "E_y3KInfE0rk",
        "outputId": "89b283a3-a051-4154-938f-6ba556e8be92"
      },
      "outputs": [],
      "source": [
        "data=df.sort_index(ascending=True,axis=0)\n",
        "new_dataset=pd.DataFrame(index=range(0,len(df)),columns=['Date','Close'])\n",
        "for i in range(0,len(data)):\n",
        " new_dataset[\"Date\"][i]=data['Date'][i]\n",
        " new_dataset[\"Close\"][i]=data[\"Close\"][i]\n",
        "new_dataset.head()"
      ]
    },
    {
      "cell_type": "code",
      "execution_count": null,
      "metadata": {
        "colab": {
          "base_uri": "https://localhost:8080/",
          "height": 238
        },
        "id": "MvoJeb2wE8JC",
        "outputId": "f6109c86-187f-44e5-c73b-3c5d53578bee"
      },
      "outputs": [],
      "source": [
        "new_dataset.index=new_dataset.Date\n",
        "new_dataset.drop(\"Date\",axis='columns',inplace=True)\n",
        "final_dataset=new_dataset.values\n",
        "new_dataset.head()"
      ]
    },
    {
      "cell_type": "code",
      "execution_count": null,
      "metadata": {
        "colab": {
          "base_uri": "https://localhost:8080/"
        },
        "id": "yuZXWEGTE_hj",
        "outputId": "eecfc94e-6cd0-4cfa-a297-3fb217ecf007"
      },
      "outputs": [],
      "source": [
        "df=new_dataset.reset_index()['Close']\n",
        "print(df)"
      ]
    },
    {
      "cell_type": "code",
      "execution_count": null,
      "metadata": {
        "colab": {
          "base_uri": "https://localhost:8080/",
          "height": 467
        },
        "id": "6l8CfqzCFEIG",
        "outputId": "700239c3-dedd-4f7f-8698-057c94809ee0"
      },
      "outputs": [],
      "source": [
        "plt.plot(df, linewidth=0.7)"
      ]
    },
    {
      "cell_type": "code",
      "execution_count": null,
      "metadata": {
        "colab": {
          "base_uri": "https://localhost:8080/"
        },
        "id": "kgjFGys3FHY8",
        "outputId": "6b7dfd21-bd91-4498-a15c-621189e7b3ba"
      },
      "outputs": [],
      "source": [
        "from sklearn.preprocessing import MinMaxScaler\n",
        "scaler=MinMaxScaler(feature_range=(0,1))\n",
        "df=scaler.fit_transform(np.array(df).reshape(-1,1))\n",
        "print(df)"
      ]
    },
    {
      "cell_type": "code",
      "execution_count": null,
      "metadata": {
        "id": "FfsbobOXFLN4"
      },
      "outputs": [],
      "source": [
        "training_size=int(len(df)*0.65)\n",
        "testing_size=len(df)-training_size\n",
        "train_data,test_data=df[0:training_size,:],df[training_size:len(df),:1]"
      ]
    },
    {
      "cell_type": "code",
      "execution_count": null,
      "metadata": {
        "colab": {
          "base_uri": "https://localhost:8080/"
        },
        "id": "_chruq2wFOts",
        "outputId": "2f92c914-0b71-4418-b1b7-17bb85a68f3b"
      },
      "outputs": [],
      "source": [
        "import numpy\n",
        "def create_dataset(dataset, time_step=1):\n",
        " dataX, dataY = [], []\n",
        " for i in range(len(dataset)-time_step-1):\n",
        "  a = dataset[i:(i+time_step), 0] ###i=0, 0,1,2,3-----99 100\n",
        "  dataX.append(a)\n",
        "  dataY.append(dataset[i + time_step, 0])\n",
        " return numpy.array(dataX), numpy.array(dataY)\n",
        "time_step = 100\n",
        "X_train, y_train = create_dataset(train_data, time_step)\n",
        "X_test, ytest = create_dataset(test_data, time_step)\n",
        "print(X_train.shape), print(y_train.shape)"
      ]
    },
    {
      "cell_type": "code",
      "execution_count": null,
      "metadata": {
        "colab": {
          "base_uri": "https://localhost:8080/"
        },
        "id": "f9oA_VzAFVv1",
        "outputId": "5d5e0b7b-cff8-4d3b-fdb1-efc4b9dccd2c"
      },
      "outputs": [],
      "source": [
        "print(X_test.shape), print(ytest.shape)"
      ]
    },
    {
      "cell_type": "code",
      "execution_count": null,
      "metadata": {
        "id": "Q2Rjm0OtFbG7"
      },
      "outputs": [],
      "source": [
        "X_train =X_train.reshape(X_train.shape[0],X_train.shape[1] , 1)\n",
        "X_test = X_test.reshape(X_test.shape[0],X_test.shape[1] , 1)"
      ]
    },
    {
      "cell_type": "code",
      "execution_count": null,
      "metadata": {
        "colab": {
          "base_uri": "https://localhost:8080/"
        },
        "id": "F4SbzD1EFelV",
        "outputId": "df5f698e-e3e8-4118-ebb9-e29887d64ca9"
      },
      "outputs": [],
      "source": [
        "model=Sequential()\n",
        "model.add(LSTM(50,return_sequences=True,input_shape=(X_train.shape[1],1)))\n",
        "model.add(Dropout(rate = 0.2))\n",
        "model.add(LSTM(50,return_sequences=True))\n",
        "model.add(Dropout(rate = 0.2))\n",
        "model.add(LSTM(50,return_sequences=False))\n",
        "model.add(Dense(1))\n",
        "model.compile(loss='mean_squared_error',optimizer='adam')\n",
        "model.summary()"
      ]
    },
    {
      "cell_type": "code",
      "execution_count": null,
      "metadata": {
        "colab": {
          "base_uri": "https://localhost:8080/"
        },
        "id": "8JnfHWTJFiKP",
        "outputId": "3f141bed-c8e4-4a9d-9960-107b0c367db9"
      },
      "outputs": [],
      "source": [
        "model.fit(X_train,y_train,validation_data=(X_test,ytest),epochs=100,batch_size=32,verbose=1)"
      ]
    },
    {
      "cell_type": "code",
      "execution_count": null,
      "metadata": {
        "colab": {
          "base_uri": "https://localhost:8080/"
        },
        "id": "SB55RsrmIMjL",
        "outputId": "5a999757-eccf-4ee4-ccaf-dbf4e9346602"
      },
      "outputs": [],
      "source": [
        "train_predict=model.predict(X_train)\n",
        "test_predict=model.predict(X_test)"
      ]
    },
    {
      "cell_type": "code",
      "execution_count": null,
      "metadata": {
        "colab": {
          "base_uri": "https://localhost:8080/",
          "height": 481
        },
        "id": "TY5osjpWIRZf",
        "outputId": "bd37db07-f821-4f01-9f75-b96db4445b0c"
      },
      "outputs": [],
      "source": [
        "fig, axes = plt.subplots(nrows=1,ncols=2, figsize=(15, 6), squeeze=False)\n",
        "fig.tight_layout(pad=5)\n",
        "plt.style.use('fivethirtyeight')\n",
        "axes[0][0].plot(y_train,color='b',linewidth=1)\n",
        "axes[0][0].plot(train_predict,color='r',linewidth=1)\n",
        "axes[0][0].set_title('Train Predictions')\n",
        "axes[0][1].plot(ytest,color='b',linewidth=1)\n",
        "axes[0][1].plot(test_predict,color='r',linewidth=1)\n",
        "axes[0][1].set_title('Train Predictions')"
      ]
    },
    {
      "cell_type": "code",
      "execution_count": null,
      "metadata": {
        "id": "YhR8Fsz3IYnm"
      },
      "outputs": [],
      "source": [
        "train_predict=scaler.inverse_transform(train_predict)\n",
        "test_predict=scaler.inverse_transform(test_predict)"
      ]
    },
    {
      "cell_type": "code",
      "execution_count": null,
      "metadata": {
        "colab": {
          "base_uri": "https://localhost:8080/"
        },
        "id": "d6vtlsxVId_F",
        "outputId": "111b7c06-f87d-4472-b9f0-32e508b82406"
      },
      "outputs": [],
      "source": [
        "math.sqrt(mean_squared_error(y_train,train_predict))"
      ]
    },
    {
      "cell_type": "code",
      "execution_count": null,
      "metadata": {
        "colab": {
          "base_uri": "https://localhost:8080/"
        },
        "id": "tBb3gf27IgvZ",
        "outputId": "b4bcef77-ea14-40ed-d3b6-28a480cfa6a7"
      },
      "outputs": [],
      "source": [
        "mae = mean_absolute_error(ytest,test_predict)\n",
        "mse = mean_squared_error(ytest,test_predict)\n",
        "r2 = r2_score(ytest,test_predict)\n",
        "rmse = math.sqrt(mean_squared_error(ytest,test_predict))\n",
        "print(\"The model performance for testing set:\")\n",
        "for i in range(38):\n",
        " print(\"-\", end='')\n",
        "print(\"\\n\")\n",
        "print('MAE is {}'.format(mae))\n",
        "print('MSE is {}'.format(mse))\n",
        "print('R2 is {}'.format(r2))\n",
        "print('RMSE is {}'.format(rmse))"
      ]
    },
    {
      "cell_type": "code",
      "execution_count": null,
      "metadata": {
        "colab": {
          "base_uri": "https://localhost:8080/",
          "height": 465
        },
        "id": "9UoXCUMWInS4",
        "outputId": "cfc2533b-ea6b-4c15-e7a2-08d755ba6ad1"
      },
      "outputs": [],
      "source": [
        "look_back=100\n",
        "trainPredictPlot = numpy.empty_like(df)\n",
        "trainPredictPlot[:, :] = np.nan\n",
        "trainPredictPlot[look_back:len(train_predict)+look_back, :] = train_predict\n",
        "testPredictPlot = numpy.empty_like(df)\n",
        "testPredictPlot[:, :] = numpy.nan\n",
        "testPredictPlot[len(train_predict)+(look_back*2)+1:len(df)-1, :] = test_predict\n",
        "plt.figure(figsize=(10, 5))\n",
        "plt.plot(scaler.inverse_transform(df),linewidth=1)\n",
        "plt.plot(trainPredictPlot,linewidth=1)\n",
        "plt.plot(testPredictPlot,linewidth=1)\n",
        "plt.legend(['Actual data set', 'Predicted results for training data set', 'Predicted results for test data set'])\n",
        "plt.show()"
      ]
    },
    {
      "cell_type": "code",
      "execution_count": null,
      "metadata": {
        "colab": {
          "base_uri": "https://localhost:8080/"
        },
        "id": "2bsqII6VJUay",
        "outputId": "884efa59-e527-4f12-cf7a-609da653cdf2"
      },
      "outputs": [],
      "source": [
        "len(test_data)"
      ]
    },
    {
      "cell_type": "code",
      "execution_count": null,
      "metadata": {
        "colab": {
          "base_uri": "https://localhost:8080/"
        },
        "id": "gUl4ZTQfJYsl",
        "outputId": "a63e9c8c-4bbe-4382-876b-ddb3b080363e"
      },
      "outputs": [],
      "source": [
        "x_input=test_data[333:].reshape(1,-1)\n",
        "x_input.shape"
      ]
    },
    {
      "cell_type": "code",
      "execution_count": null,
      "metadata": {
        "id": "Gyr0UGX3JbYk"
      },
      "outputs": [],
      "source": [
        "temp_input=list(x_input)\n",
        "temp_input=temp_input[0].tolist()"
      ]
    },
    {
      "cell_type": "code",
      "execution_count": null,
      "metadata": {
        "colab": {
          "base_uri": "https://localhost:8080/"
        },
        "id": "7Dx9XaLtOskF",
        "outputId": "d4450c03-f2a2-4eee-da5f-2436571dcb79"
      },
      "outputs": [],
      "source": [
        "from numpy import array\n",
        "lst_output=[]\n",
        "n_steps=380\n",
        "i=1\n",
        "while(i<=30):\n",
        " if(len(temp_input)>100):\n",
        "  x_input=np.array(temp_input[1:])\n",
        "  print(\"{} day input: \\n\\n{}\".format(i,x_input))\n",
        "  x_input=x_input.reshape(1,-1)\n",
        "  x_input = x_input.reshape((1, n_steps, 1))\n",
        "  yhat = model.predict(x_input, verbose=0)\n",
        "  print(\"\\n{} day output: {}\\n\\n\\n\".format(i,yhat))\n",
        "  temp_input.extend(yhat[0].tolist())\n",
        "  temp_input=temp_input[1:]\n",
        "  lst_output.extend(yhat.tolist())\n",
        "  i=i+1\n",
        "else:\n",
        " x_input = x_input.reshape((1, n_steps,1))\n",
        " yhat = model.predict(x_input, verbose=0)\n",
        " print(yhat[0])\n",
        " temp_input.extend(yhat[0].tolist())\n",
        " print(len(temp_input))\n",
        " lst_output.extend(yhat.tolist())\n",
        " i=i+1"
      ]
    },
    {
      "cell_type": "code",
      "execution_count": null,
      "metadata": {
        "colab": {
          "base_uri": "https://localhost:8080/"
        },
        "id": "aXvRr_hPKa7F",
        "outputId": "ba438ebf-ec6c-48ab-9f12-86ca5f29a11b"
      },
      "outputs": [],
      "source": [
        "day_new=np.arange(1,101)\n",
        "day_pred=np.arange(101,132)\n",
        "len(df)"
      ]
    },
    {
      "cell_type": "code",
      "execution_count": null,
      "metadata": {
        "colab": {
          "base_uri": "https://localhost:8080/",
          "height": 465
        },
        "id": "xv1GJfYVKr2v",
        "outputId": "f2436faf-a48b-4b94-93fa-0c0a0afd9b39"
      },
      "outputs": [],
      "source": [
        "plt.figure(figsize=(7, 5))\n",
        "plt.plot(day_new, scaler.inverse_transform(df[1935:]), linewidth=2)\n",
        "plt.plot(day_pred, scaler.inverse_transform(lst_output), linewidth=2)\n",
        "plt.legend(['Historical Stock Price', 'Future Stock Prices'])\n",
        "plt.show()"
      ]
    }
  ],
  "metadata": {
    "colab": {
      "authorship_tag": "ABX9TyMIXJcbjhNwM67JNutgRJ64",
      "include_colab_link": true,
      "provenance": []
    },
    "kernelspec": {
      "display_name": "Python 3",
      "name": "python3"
    },
    "language_info": {
      "name": "python"
    }
  },
  "nbformat": 4,
  "nbformat_minor": 0
}
